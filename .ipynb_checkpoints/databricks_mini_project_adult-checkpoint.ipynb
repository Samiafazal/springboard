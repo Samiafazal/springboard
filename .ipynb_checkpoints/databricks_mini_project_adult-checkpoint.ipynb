{
 "cells": [
  {
   "cell_type": "markdown",
   "id": "d4c98c02",
   "metadata": {},
   "source": [
    "# Spark SQL & ML Mini-Project\n",
    "This notebook contains answers and explorations for the Databricks mini-project using the `adult` dataset."
   ]
  },
  {
   "cell_type": "markdown",
   "id": "fa65a74e",
   "metadata": {},
   "source": [
    "## Exercise Overview\n",
    "We'll use Spark SQL, DataFrames, and build simple classification models. Dataset: `/databricks-datasets/adult/adult.data`."
   ]
  },
  {
   "cell_type": "markdown",
   "id": "0a0101e5",
   "metadata": {},
   "source": [
    "## Step 1: Load & Register Data"
   ]
  },
  {
   "cell_type": "code",
   "execution_count": null,
   "id": "a6606cb2",
   "metadata": {},
   "outputs": [],
   "source": [
    "# Load and register the adult dataset as a Spark SQL table\n",
    "spark.sql(\"\"\"DROP TABLE IF EXISTS adult\"\"\")\n",
    "spark.sql(\"\"\"\n",
    "CREATE TABLE adult (\n",
    "  age DOUBLE,\n",
    "  workclass STRING,\n",
    "  fnlwgt DOUBLE,\n",
    "  education STRING,\n",
    "  education_num DOUBLE,\n",
    "  marital_status STRING,\n",
    "  occupation STRING,\n",
    "  relationship STRING,\n",
    "  race STRING,\n",
    "  sex STRING,\n",
    "  capital_gain DOUBLE,\n",
    "  capital_loss DOUBLE,\n",
    "  hours_per_week DOUBLE,\n",
    "  native_country STRING,\n",
    "  income STRING)\n",
    "USING com.databricks.spark.csv\n",
    "OPTIONS (path \"/databricks-datasets/adult/adult.data\", header \"true\")\n",
    "\"\"\")"
   ]
  },
  {
   "cell_type": "markdown",
   "id": "eb5ba0b0",
   "metadata": {},
   "source": [
    "## Question 1: Top `bachelor_rate` by education (Spark SQL)"
   ]
  },
  {
   "cell_type": "code",
   "execution_count": null,
   "id": "29216d76",
   "metadata": {},
   "outputs": [],
   "source": [
    "result = spark.sql(\"\"\"\n",
    "SELECT\n",
    "  education,\n",
    "  SUM(1) as n,\n",
    "  ROUND(AVG(if(LTRIM(marital_status) = 'Never-married',1,0)),2) as bachelor_rate\n",
    "FROM adult \n",
    "GROUP BY 1\n",
    "ORDER BY bachelor_rate DESC\n",
    "\"\"\")\n",
    "result.show(1)"
   ]
  },
  {
   "cell_type": "markdown",
   "id": "bac18d89",
   "metadata": {},
   "source": [
    "## Question 2: Top `bachelor_rate` by education (DataFrame API)"
   ]
  },
  {
   "cell_type": "code",
   "execution_count": null,
   "id": "ba101b98",
   "metadata": {},
   "outputs": [],
   "source": [
    "from pyspark.sql.functions import when, col, mean, desc, round\n",
    "\n",
    "df_adult = spark.table(\"adult\")\n",
    "\n",
    "df_result = df_adult.select(\n",
    "    df_adult['education'],\n",
    "    when(col('marital_status') == ' Never-married', 1).otherwise(0).alias('is_bachelor')\n",
    ")\n",
    "\n",
    "df_result = df_result.groupBy('education').agg(round(mean('is_bachelor'), 2).alias('bachelor_rate'))\n",
    "df_result = df_result.orderBy(desc('bachelor_rate'))\n",
    "\n",
    "df_result.show(1)"
   ]
  },
  {
   "cell_type": "markdown",
   "id": "665ca573",
   "metadata": {},
   "source": [
    "## Income Distribution by Occupation"
   ]
  },
  {
   "cell_type": "code",
   "execution_count": null,
   "id": "3af5ea6d",
   "metadata": {},
   "outputs": [],
   "source": [
    "import pandas as pd\n",
    "\n",
    "result = spark.sql(\"\"\"\n",
    "SELECT \n",
    "  occupation,\n",
    "  AVG(IF(income = ' >50K',1,0)) as plus_50k\n",
    "FROM adult \n",
    "GROUP BY 1\n",
    "ORDER BY 2 DESC\n",
    "\"\"\")\n",
    "\n",
    "df_pandas = pd.DataFrame(result.collect(), columns=result.schema.names)\n",
    "df_pandas.head()"
   ]
  },
  {
   "cell_type": "code",
   "execution_count": null,
   "id": "7a6da6b9",
   "metadata": {},
   "outputs": [],
   "source": [
    "import matplotlib.pyplot as plt\n",
    "\n",
    "plt.style.use('ggplot')\n",
    "df_pandas.plot(kind='barh', x='occupation', y='plus_50k', figsize=(10, 6))\n",
    "plt.title('Income >50K by Occupation')\n",
    "plt.xlabel('Proportion >50K')\n",
    "plt.ylabel('Occupation')\n",
    "plt.tight_layout()\n",
    "plt.show()"
   ]
  }
 ],
 "metadata": {
  "kernelspec": {
   "display_name": "Python 3",
   "language": "python",
   "name": "python3"
  }
 },
 "nbformat": 4,
 "nbformat_minor": 5
}
