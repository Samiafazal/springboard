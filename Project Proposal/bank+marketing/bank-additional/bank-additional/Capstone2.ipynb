{
 "cells": [
  {
   "cell_type": "code",
   "execution_count": 4,
   "id": "cc529c76-7bf5-48c3-a19b-49799754ab1a",
   "metadata": {},
   "outputs": [
    {
     "name": "stdout",
     "output_type": "stream",
     "text": [
      "Does the full dataset file exist? False\n",
      "Does the additional dataset file exist? False\n",
      "File not found: C:\\Users\\samia\\OneDrive\\Documents\\GitHub\\springboard\\Project Proposal\\bank-additional\\bank-additional-full.csv\n",
      "File not found: C:\\Users\\samia\\OneDrive\\Documents\\GitHub\\springboard\\Project Proposal\\bank-marketing\\bank-additional\\bank-additional.csv\n"
     ]
    }
   ],
   "source": [
    "# Load each dataset\n",
    "import pandas as pd\n",
    "import os\n",
    "\n",
    "# Define file paths\n",
    "file_path = r\"C:\\Users\\samia\\OneDrive\\Documents\\GitHub\\springboard\\Project Proposal\\bank-additional\\bank-additional-full.csv\"\n",
    "file_path1 = r\"C:\\Users\\samia\\OneDrive\\Documents\\GitHub\\springboard\\Project Proposal\\bank-marketing\\bank-additional\\bank-additional.csv\"\n",
    "C:\\Users\\samia\\OneDrive\\Documents\\GitHub\\springboard\\Project Proposal\\bank+marketing\\bank-additional\\bank-additional\n",
    "\n",
    "# Check if files exist\n",
    "print(\"Does the full dataset file exist?\", os.path.exists(file_path))\n",
    "print(\"Does the additional dataset file exist?\", os.path.exists(file_path1))\n",
    "\n",
    "# Load datasets if they exist\n",
    "if os.path.exists(file_path):\n",
    "    bank_additional_full = pd.read_csv(file_path)\n",
    "else:\n",
    "    print(f\"File not found: {file_path}\")\n",
    "\n",
    "if os.path.exists(file_path1):\n",
    "    bank_full = pd.read_csv(file_path1)\n",
    "else:\n",
    "    print(f\"File not found: {file_path1}\")\n",
    "\n",
    "# Check the data from the first dataset\n",
    "if 'bank_additional_full' in locals():\n",
    "    print(bank_additional_full.head())"
   ]
  },
  {
   "cell_type": "code",
   "execution_count": 5,
   "id": "d194c22a-e584-4175-ac59-98bd268bd85d",
   "metadata": {},
   "outputs": [
    {
     "ename": "NameError",
     "evalue": "name 'bank_additional_full' is not defined",
     "output_type": "error",
     "traceback": [
      "\u001b[1;31m---------------------------------------------------------------------------\u001b[0m",
      "\u001b[1;31mNameError\u001b[0m                                 Traceback (most recent call last)",
      "Cell \u001b[1;32mIn[5], line 1\u001b[0m\n\u001b[1;32m----> 1\u001b[0m \u001b[38;5;28mprint\u001b[39m(bank_additional_full\u001b[38;5;241m.\u001b[39mcolumns)\n\u001b[0;32m      2\u001b[0m \u001b[38;5;66;03m#print(bank_additional.columns)\u001b[39;00m\n\u001b[0;32m      3\u001b[0m \u001b[38;5;28mprint\u001b[39m(bank_full\u001b[38;5;241m.\u001b[39mcolumns)\n",
      "\u001b[1;31mNameError\u001b[0m: name 'bank_additional_full' is not defined"
     ]
    }
   ],
   "source": [
    "print(bank_additional_full.columns)\n",
    "#print(bank_additional.columns)\n",
    "print(bank_full.columns)\n",
    "#print(bank.columns)"
   ]
  },
  {
   "cell_type": "code",
   "execution_count": null,
   "id": "eeabb09f-9694-4f39-aec0-6b9c5588db41",
   "metadata": {},
   "outputs": [],
   "source": [
    "combined_data = pd.concat([bank_additional_full, bank_full], ignore_index=True)"
   ]
  },
  {
   "cell_type": "code",
   "execution_count": null,
   "id": "2ca3928b-2270-43c5-a741-c30e99bd3cb1",
   "metadata": {},
   "outputs": [],
   "source": [
    "# Merge on a common key, assuming 'client_id' is the shared column\n",
    "#merged_data = pd.merge(bank_additional_full, bank_full, on='client_id', how='inner')\n",
    "#import pandas as pd\n",
    "# Assuming you have already loaded the DataFrames as bank_additional_full and bank_full\n",
    "\n",
    "# Check the columns in each DataFrame\n",
    "print(\"Columns in bank_additional_full:\", bank_additional_full.columns)\n",
    "print(\"Columns in bank_full:\", bank_full.columns)\n",
    "\n",
    "# Strip spaces from column names\n",
    "bank_additional_full.columns = bank_additional_full.columns.str.strip()\n",
    "bank_full.columns = bank_full.columns.str.strip()\n",
    "\n",
    "# Re-check the columns after stripping\n",
    "print(\"Updated columns in bank_additional_full:\", bank_additional_full.columns)\n",
    "print(\"Updated columns in bank_full:\", bank_full.columns)\n",
    "\n",
    "# Now attempt to merge on the correct column\n",
    "try:\n",
    "    merged_data = pd.merge(bank_additional_full, bank_full, on='client_id', how='inner')\n",
    "    print(\"Merge successful.\")\n",
    "except KeyError as e:\n",
    "    print(\"Merge failed:\", e)"
   ]
  },
  {
   "cell_type": "code",
   "execution_count": null,
   "id": "f45ef6ed-1c38-4581-b943-e0571c14fd6e",
   "metadata": {},
   "outputs": [],
   "source": [
    "# Check the shape of the combined dataset\n",
    "print(combined_data.shape)\n",
    "\n",
    "# Preview the combined dataset\n",
    "combined_data.head()"
   ]
  },
  {
   "cell_type": "code",
   "execution_count": 3,
   "id": "ea401d05-392d-4c52-905c-2f6edeaa4a97",
   "metadata": {},
   "outputs": [
    {
     "ename": "NameError",
     "evalue": "name 'combined_data' is not defined",
     "output_type": "error",
     "traceback": [
      "\u001b[1;31m---------------------------------------------------------------------------\u001b[0m",
      "\u001b[1;31mNameError\u001b[0m                                 Traceback (most recent call last)",
      "Cell \u001b[1;32mIn[3], line 2\u001b[0m\n\u001b[0;32m      1\u001b[0m \u001b[38;5;66;03m# Check for missing values\u001b[39;00m\n\u001b[1;32m----> 2\u001b[0m \u001b[38;5;28mprint\u001b[39m(combined_data\u001b[38;5;241m.\u001b[39misnull()\u001b[38;5;241m.\u001b[39msum())\n\u001b[0;32m      4\u001b[0m \u001b[38;5;66;03m# Remove duplicates, if needed\u001b[39;00m\n\u001b[0;32m      5\u001b[0m combined_data\u001b[38;5;241m.\u001b[39mdrop_duplicates(inplace\u001b[38;5;241m=\u001b[39m\u001b[38;5;28;01mTrue\u001b[39;00m)\n",
      "\u001b[1;31mNameError\u001b[0m: name 'combined_data' is not defined"
     ]
    }
   ],
   "source": [
    "# Check for missing values\n",
    "print(combined_data.isnull().sum())\n",
    "\n",
    "# Remove duplicates, if needed\n",
    "combined_data.drop_duplicates(inplace=True)"
   ]
  },
  {
   "cell_type": "code",
   "execution_count": null,
   "id": "86eaf0d9-59f4-4573-87e5-ad71eac2d4e3",
   "metadata": {},
   "outputs": [],
   "source": []
  },
  {
   "cell_type": "code",
   "execution_count": null,
   "id": "15abba6e-992f-42e4-af15-9c51cf86feac",
   "metadata": {},
   "outputs": [],
   "source": []
  }
 ],
 "metadata": {
  "kernelspec": {
   "display_name": "Python 3 (ipykernel)",
   "language": "python",
   "name": "python3"
  },
  "language_info": {
   "codemirror_mode": {
    "name": "ipython",
    "version": 3
   },
   "file_extension": ".py",
   "mimetype": "text/x-python",
   "name": "python",
   "nbconvert_exporter": "python",
   "pygments_lexer": "ipython3",
   "version": "3.11.7"
  }
 },
 "nbformat": 4,
 "nbformat_minor": 5
}
