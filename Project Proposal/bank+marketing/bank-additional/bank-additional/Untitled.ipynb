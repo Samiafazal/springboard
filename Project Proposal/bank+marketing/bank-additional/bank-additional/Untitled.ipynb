{
 "cells": [
  {
   "cell_type": "code",
   "execution_count": 29,
   "id": "c00fb770-9e26-449a-ad8c-d27d14378b9c",
   "metadata": {},
   "outputs": [
    {
     "name": "stdout",
     "output_type": "stream",
     "text": [
      "Does the full dataset file exist? False\n",
      "Does the additional dataset file exist? False\n",
      "File not found: C:\\Users\\samia\\OneDrive\\Documents\\GitHub\\springboard\\Project Proposal\\bank-additional\\bank-additional-full.csv\n",
      "File not found: C:\\Users\\samia\\OneDrive\\Documents\\GitHub\\springboard\\Project Proposal\\bank-marketing\\bank-additional\\bank-additional.csv\n"
     ]
    }
   ],
   "source": [
    "# Load each dataset\n",
    "import pandas as pd\n",
    "import os\n",
    "\n",
    "# Define file paths\n",
    "file_path = r\"C:\\Users\\samia\\OneDrive\\Documents\\GitHub\\springboard\\Project Proposal\\bank-additional\\bank-additional-full.csv\"\n",
    "file_path1 = r\"C:\\Users\\samia\\OneDrive\\Documents\\GitHub\\springboard\\Project Proposal\\bank-marketing\\bank-additional\\bank-additional.csv\"\n",
    "\n",
    "# Check if files exist\n",
    "print(\"Does the full dataset file exist?\", os.path.exists(file_path))\n",
    "print(\"Does the additional dataset file exist?\", os.path.exists(file_path1))\n",
    "\n",
    "# Load datasets if they exist\n",
    "if os.path.exists(file_path):\n",
    "    bank_additional_full = pd.read_csv(file_path)\n",
    "else:\n",
    "    print(f\"File not found: {file_path}\")\n",
    "\n",
    "if os.path.exists(file_path1):\n",
    "    bank_full = pd.read_csv(file_path1)\n",
    "else:\n",
    "    print(f\"File not found: {file_path1}\")\n",
    "\n",
    "# Check the data from the first dataset\n",
    "if 'bank_additional_full' in locals():\n",
    "    print(bank_additional_full.head())"
   ]
  },
  {
   "cell_type": "code",
   "execution_count": 30,
   "id": "b2bc407b-47fc-4fb3-b9a0-a0916e06fc78",
   "metadata": {},
   "outputs": [
    {
     "ename": "NameError",
     "evalue": "name 'bank_additional_full' is not defined",
     "output_type": "error",
     "traceback": [
      "\u001b[1;31m---------------------------------------------------------------------------\u001b[0m",
      "\u001b[1;31mNameError\u001b[0m                                 Traceback (most recent call last)",
      "Cell \u001b[1;32mIn[30], line 1\u001b[0m\n\u001b[1;32m----> 1\u001b[0m \u001b[38;5;28mprint\u001b[39m(bank_additional_full\u001b[38;5;241m.\u001b[39mhead())\n",
      "\u001b[1;31mNameError\u001b[0m: name 'bank_additional_full' is not defined"
     ]
    }
   ],
   "source": []
  },
  {
   "cell_type": "code",
   "execution_count": null,
   "id": "89a96b8f-988e-4736-b0eb-5c1a951dc321",
   "metadata": {},
   "outputs": [],
   "source": []
  },
  {
   "cell_type": "code",
   "execution_count": null,
   "id": "7bd305c3-6d31-4e92-828f-f164aa129d8d",
   "metadata": {},
   "outputs": [],
   "source": []
  },
  {
   "cell_type": "code",
   "execution_count": null,
   "id": "1ded41cc-228c-4153-9fcd-6fbfa008f8a2",
   "metadata": {},
   "outputs": [],
   "source": []
  },
  {
   "cell_type": "code",
   "execution_count": null,
   "id": "110eee65-2cc6-405a-9e5f-7a313b2a392b",
   "metadata": {},
   "outputs": [],
   "source": []
  },
  {
   "cell_type": "code",
   "execution_count": null,
   "id": "5b09fdb5-bc0c-40e6-ab61-4cbdb2f675b3",
   "metadata": {},
   "outputs": [],
   "source": []
  },
  {
   "cell_type": "code",
   "execution_count": null,
   "id": "ae4f4e82-d425-4f04-a460-194045793afb",
   "metadata": {},
   "outputs": [],
   "source": []
  }
 ],
 "metadata": {
  "kernelspec": {
   "display_name": "Python 3 (ipykernel)",
   "language": "python",
   "name": "python3"
  },
  "language_info": {
   "codemirror_mode": {
    "name": "ipython",
    "version": 3
   },
   "file_extension": ".py",
   "mimetype": "text/x-python",
   "name": "python",
   "nbconvert_exporter": "python",
   "pygments_lexer": "ipython3",
   "version": "3.11.7"
  }
 },
 "nbformat": 4,
 "nbformat_minor": 5
}
