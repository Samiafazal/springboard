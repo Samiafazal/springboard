{
 "cells": [
  {
   "cell_type": "code",
   "execution_count": null,
   "id": "4d6906b2-985d-459b-b820-9f9398d4f963",
   "metadata": {},
   "outputs": [
    {
     "name": "stdout",
     "output_type": "stream",
     "text": [
      "Does the full dataset file exist? True\n",
      "Does the additional dataset file exist? True\n",
      "  age;\"job\";\"marital\";\"education\";\"default\";\"housing\";\"loan\";\"contact\";\"month\";\"day_of_week\";\"duration\";\"campaign\";\"pdays\";\"previous\";\"poutcome\";\"emp.var.rate\";\"cons.price.idx\";\"cons.conf.idx\";\"euribor3m\";\"nr.employed\";\"y\"\n",
      "0  56;\"housemaid\";\"married\";\"basic.4y\";\"no\";\"no\";...                                                                                                                                                                          \n",
      "1  57;\"services\";\"married\";\"high.school\";\"unknown...                                                                                                                                                                          \n",
      "2  37;\"services\";\"married\";\"high.school\";\"no\";\"ye...                                                                                                                                                                          \n",
      "3  40;\"admin.\";\"married\";\"basic.6y\";\"no\";\"no\";\"no...                                                                                                                                                                          \n",
      "4  56;\"services\";\"married\";\"high.school\";\"no\";\"no...                                                                                                                                                                          \n"
     ]
    }
   ],
   "source": [
    "import pandas as pd\n",
    "import numpy as np\n",
    "import os\n",
    "from sklearn.preprocessing import StandardScaler\n",
    "from sklearn.model_selection import train_test_split\n",
    "\n",
    "# Load datasets\n",
    "file_path = r\"C:\\Users\\samia\\OneDrive\\Documents\\GitHub\\springboard\\Project Proposal\\bank+marketing\\bank-additional\\bank-additional\\bank-additional-full.csv\"\n",
    "file_path1 = r\"C:\\Users\\samia\\OneDrive\\Documents\\GitHub\\springboard\\Project Proposal\\bank+marketing\\bank-additional\\bank-additional\\bank-additional.csv\"\n",
    "\n",
    "# Check if files exist\n",
    "print(\"Does the full dataset file exist?\", os.path.exists(file_path))\n",
    "print(\"Does the additional dataset file exist?\", os.path.exists(file_path1))\n",
    "\n",
    "# Load datasets if they exist\n",
    "if os.path.exists(file_path):\n",
    "    bank_additional_full = pd.read_csv(file_path)\n",
    "else:\n",
    "    print(f\"File not found: {file_path}\")\n",
    "\n",
    "if os.path.exists(file_path1):\n",
    "    bank_full = pd.read_csv(file_path1)\n",
    "else:\n",
    "    print(f\"File not found: {file_path1}\")\n",
    "\n",
    "# Check the data from the first dataset\n",
    "if 'bank_additional_full' in locals():\n",
    "    print(bank_additional_full.head())\n",
    "\n",
    "# Step 1: Handle missing values (if any) - Fill or drop\n",
    "bank_additional_full = bank_additional_full.dropna()  # Or you can use fillna() to fill missing values.\n",
    "\n",
    "# Step 2: Create dummy/indicator features for categorical variables\n",
    "categorical_columns = bank_additional_full.select_dtypes(include=['object']).columns\n",
    "\n",
    "# Use sparse=True to save memory when creating dummies\n",
    "bank_additional_full = pd.get_dummies(bank_additional_full, columns=categorical_columns, drop_first=True, sparse=True)\n",
    "\n",
    "# Step 3: Identify numeric columns and standardize them\n",
    "numeric_columns = bank_additional_full.select_dtypes(include=['int64', 'float64']).columns\n",
    "\n",
    "# Check if numeric columns exist\n",
    "if len(numeric_columns) > 0:\n",
    "    scaler = StandardScaler()\n",
    "    bank_additional_full[numeric_columns] = scaler.fit_transform(bank_additional_full[numeric_columns])\n",
    "else:\n",
    "    print(\"No numeric columns found to scale.\")\n",
    "\n",
    "# Step 4: Split data into training and testing datasets\n",
    "# Assuming 'y' is the target variable\n",
    "X = bank_additional_full.drop('y', axis=1)  # Drop the target variable 'y'\n",
    "y = bank_additional_full['y']  # The target variable\n",
    "\n",
    "# Step 5: Split the data into training and testing sets (80% train, 20% test)\n",
    "X_train, X_test, y_train, y_test = train_test_split(X, y, test_size=0.2, random_state=42)\n",
    "\n",
    "# Output shapes of the splits to verify the process\n",
    "print(f\"Training data shape: {X_train.shape}, Test data shape: {X_test.shape}\")\n",
    "\n",
    "# You can proceed with the model training now\n"
   ]
  },
  {
   "cell_type": "code",
   "execution_count": null,
   "id": "0849e8c6-a191-4de3-acbc-336d67d8fcd1",
   "metadata": {},
   "outputs": [],
   "source": []
  }
 ],
 "metadata": {
  "kernelspec": {
   "display_name": "Python 3 (ipykernel)",
   "language": "python",
   "name": "python3"
  },
  "language_info": {
   "codemirror_mode": {
    "name": "ipython",
    "version": 3
   },
   "file_extension": ".py",
   "mimetype": "text/x-python",
   "name": "python",
   "nbconvert_exporter": "python",
   "pygments_lexer": "ipython3",
   "version": "3.11.7"
  }
 },
 "nbformat": 4,
 "nbformat_minor": 5
}
