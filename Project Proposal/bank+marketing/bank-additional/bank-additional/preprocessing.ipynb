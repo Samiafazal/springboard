{
 "cells": [
  {
   "cell_type": "code",
   "execution_count": 13,
   "id": "0849e8c6-a191-4de3-acbc-336d67d8fcd1",
   "metadata": {},
   "outputs": [],
   "source": [
    "import pandas as pd\n",
    "import numpy as np\n",
    "from sklearn.preprocessing import StandardScaler\n",
    "\n",
    "# Load the dataset\n",
    "file_path = r\"C:\\Users\\samia\\OneDrive\\Documents\\GitHub\\springboard\\Project Proposal\\bank+marketing\\bank-additional\\bank-additional\\bank-additional-full.csv\"\n",
    "\n",
    "# Check if the file exists and load the data\n",
    "if os.path.exists(file_path):\n",
    "    bank_additional_full = pd.read_csv(file_path)\n",
    "else:\n",
    "    print(f\"File not found: {file_path}\")\n"
   ]
  },
  {
   "cell_type": "code",
   "execution_count": 14,
   "id": "0587d306-f154-44d6-aaef-f004201c2ed4",
   "metadata": {},
   "outputs": [
    {
     "name": "stdout",
     "output_type": "stream",
     "text": [
      "age;\"job\";\"marital\";\"education\";\"default\";\"housing\";\"loan\";\"contact\";\"month\";\"day_of_week\";\"duration\";\"campaign\";\"pdays\";\"previous\";\"poutcome\";\"emp.var.rate\";\"cons.price.idx\";\"cons.conf.idx\";\"euribor3m\";\"nr.employed\";\"y\"    0\n",
      "dtype: int64\n"
     ]
    }
   ],
   "source": [
    "# Step 1: Check if there are any missing values in the dataset\n",
    "print(bank_additional_full.isnull().sum())"
   ]
  },
  {
   "cell_type": "code",
   "execution_count": 15,
   "id": "1d712a6c-61bc-44d5-9936-b4507527dd48",
   "metadata": {},
   "outputs": [],
   "source": [
    "# Step 2: Handle missing values (if any)\n",
    "# Here we're dropping rows with missing values for simplicity, or you could fill them\n",
    "bank_additional_full = bank_additional_full.dropna()"
   ]
  },
  {
   "cell_type": "code",
   "execution_count": 16,
   "id": "f7254396-b950-421a-9d4e-86fb2c458b74",
   "metadata": {},
   "outputs": [],
   "source": [
    "# Step 3: Convert categorical columns to dummy/indicator variables\n",
    "categorical_columns = bank_additional_full.select_dtypes(include=['object']).columns\n",
    "bank_additional_full = pd.get_dummies(bank_additional_full, columns=categorical_columns, drop_first=True)"
   ]
  },
  {
   "cell_type": "code",
   "execution_count": 17,
   "id": "46b63dc7-ccda-4e13-a1b5-034387ebcb74",
   "metadata": {},
   "outputs": [],
   "source": [
    "# Step 4: Identify numeric columns\n",
    "numeric_columns = bank_additional_full.select_dtypes(include=['int64', 'float64']).columns"
   ]
  },
  {
   "cell_type": "code",
   "execution_count": 18,
   "id": "8dc0e049-0679-4079-8b9b-7b728119b686",
   "metadata": {},
   "outputs": [
    {
     "name": "stdout",
     "output_type": "stream",
     "text": [
      "No numeric columns found in the dataset.\n"
     ]
    }
   ],
   "source": [
    "# Step 5: Ensure that numeric columns exist before applying StandardScaler\n",
    "if numeric_columns.empty:\n",
    "    print(\"No numeric columns found in the dataset.\")\n",
    "else:\n",
    "    # Step 6: Standardize the numeric features\n",
    "    scaler = StandardScaler()\n",
    "    bank_additional_full[numeric_columns] = scaler.fit_transform(bank_additional_full[numeric_columns])"
   ]
  },
  {
   "cell_type": "code",
   "execution_count": 19,
   "id": "faf4c89e-64fd-4906-8df7-1393e207a8a3",
   "metadata": {},
   "outputs": [
    {
     "name": "stdout",
     "output_type": "stream",
     "text": [
      "   age;\"job\";\"marital\";\"education\";\"default\";\"housing\";\"loan\";\"contact\";\"month\";\"day_of_week\";\"duration\";\"campaign\";\"pdays\";\"previous\";\"poutcome\";\"emp.var.rate\";\"cons.price.idx\";\"cons.conf.idx\";\"euribor3m\";\"nr.employed\";\"y\"_17;\"student\";\"single\";\"basic.9y\";\"no\";\"yes\";\"no\";\"cellular\";\"aug\";\"fri\";182;2;999;2;\"failure\";-2.9;92.201;-31.4;0.869;5076.2;\"no\"  \\\n",
      "0                                              False                                                                                                                                                                                                                                                                                                                \n",
      "1                                              False                                                                                                                                                                                                                                                                                                                \n",
      "2                                              False                                                                                                                                                                                                                                                                                                                \n",
      "3                                              False                                                                                                                                                                                                                                                                                                                \n",
      "4                                              False                                                                                                                                                                                                                                                                                                                \n",
      "\n",
      "   age;\"job\";\"marital\";\"education\";\"default\";\"housing\";\"loan\";\"contact\";\"month\";\"day_of_week\";\"duration\";\"campaign\";\"pdays\";\"previous\";\"poutcome\";\"emp.var.rate\";\"cons.price.idx\";\"cons.conf.idx\";\"euribor3m\";\"nr.employed\";\"y\"_17;\"student\";\"single\";\"basic.9y\";\"no\";\"yes\";\"no\";\"cellular\";\"aug\";\"fri\";92;3;4;2;\"success\";-2.9;92.201;-31.4;0.869;5076.2;\"no\"  \\\n",
      "0                                              False                                                                                                                                                                                                                                                                                                             \n",
      "1                                              False                                                                                                                                                                                                                                                                                                             \n",
      "2                                              False                                                                                                                                                                                                                                                                                                             \n",
      "3                                              False                                                                                                                                                                                                                                                                                                             \n",
      "4                                              False                                                                                                                                                                                                                                                                                                             \n",
      "\n",
      "   age;\"job\";\"marital\";\"education\";\"default\";\"housing\";\"loan\";\"contact\";\"month\";\"day_of_week\";\"duration\";\"campaign\";\"pdays\";\"previous\";\"poutcome\";\"emp.var.rate\";\"cons.price.idx\";\"cons.conf.idx\";\"euribor3m\";\"nr.employed\";\"y\"_17;\"student\";\"single\";\"unknown\";\"no\";\"no\";\"yes\";\"cellular\";\"oct\";\"tue\";896;1;2;2;\"success\";-3.4;92.431;-26.9;0.742;5017.5;\"yes\"  \\\n",
      "0                                              False                                                                                                                                                                                                                                                                                                              \n",
      "1                                              False                                                                                                                                                                                                                                                                                                              \n",
      "2                                              False                                                                                                                                                                                                                                                                                                              \n",
      "3                                              False                                                                                                                                                                                                                                                                                                              \n",
      "4                                              False                                                                                                                                                                                                                                                                                                              \n",
      "\n",
      "   age;\"job\";\"marital\";\"education\";\"default\";\"housing\";\"loan\";\"contact\";\"month\";\"day_of_week\";\"duration\";\"campaign\";\"pdays\";\"previous\";\"poutcome\";\"emp.var.rate\";\"cons.price.idx\";\"cons.conf.idx\";\"euribor3m\";\"nr.employed\";\"y\"_17;\"student\";\"single\";\"unknown\";\"no\";\"yes\";\"no\";\"cellular\";\"aug\";\"wed\";432;3;4;2;\"success\";-2.9;92.201;-31.4;0.884;5076.2;\"no\"  \\\n",
      "0                                              False                                                                                                                                                                                                                                                                                                             \n",
      "1                                              False                                                                                                                                                                                                                                                                                                             \n",
      "2                                              False                                                                                                                                                                                                                                                                                                             \n",
      "3                                              False                                                                                                                                                                                                                                                                                                             \n",
      "4                                              False                                                                                                                                                                                                                                                                                                             \n",
      "\n",
      "   age;\"job\";\"marital\";\"education\";\"default\";\"housing\";\"loan\";\"contact\";\"month\";\"day_of_week\";\"duration\";\"campaign\";\"pdays\";\"previous\";\"poutcome\";\"emp.var.rate\";\"cons.price.idx\";\"cons.conf.idx\";\"euribor3m\";\"nr.employed\";\"y\"_18;\"student\";\"single\";\"basic.4y\";\"no\";\"no\";\"no\";\"cellular\";\"apr\";\"thu\";108;1;999;0;\"nonexistent\";-1.8;93.075;-47.1;1.365;5099.1;\"no\"  \\\n",
      "0                                              False                                                                                                                                                                                                                                                                                                                   \n",
      "1                                              False                                                                                                                                                                                                                                                                                                                   \n",
      "2                                              False                                                                                                                                                                                                                                                                                                                   \n",
      "3                                              False                                                                                                                                                                                                                                                                                                                   \n",
      "4                                              False                                                                                                                                                                                                                                                                                                                   \n",
      "\n",
      "   age;\"job\";\"marital\";\"education\";\"default\";\"housing\";\"loan\";\"contact\";\"month\";\"day_of_week\";\"duration\";\"campaign\";\"pdays\";\"previous\";\"poutcome\";\"emp.var.rate\";\"cons.price.idx\";\"cons.conf.idx\";\"euribor3m\";\"nr.employed\";\"y\"_18;\"student\";\"single\";\"basic.4y\";\"no\";\"yes\";\"no\";\"cellular\";\"jun\";\"tue\";154;1;999;0;\"nonexistent\";-1.7;94.055;-39.8;0.737;4991.6;\"no\"  \\\n",
      "0                                              False                                                                                                                                                                                                                                                                                                                    \n",
      "1                                              False                                                                                                                                                                                                                                                                                                                    \n",
      "2                                              False                                                                                                                                                                                                                                                                                                                    \n",
      "3                                              False                                                                                                                                                                                                                                                                                                                    \n",
      "4                                              False                                                                                                                                                                                                                                                                                                                    \n",
      "\n",
      "   age;\"job\";\"marital\";\"education\";\"default\";\"housing\";\"loan\";\"contact\";\"month\";\"day_of_week\";\"duration\";\"campaign\";\"pdays\";\"previous\";\"poutcome\";\"emp.var.rate\";\"cons.price.idx\";\"cons.conf.idx\";\"euribor3m\";\"nr.employed\";\"y\"_18;\"student\";\"single\";\"basic.4y\";\"no\";\"yes\";\"no\";\"telephone\";\"nov\";\"tue\";394;1;13;2;\"success\";-1.1;94.767;-50.8;1.049;4963.6;\"yes\"  \\\n",
      "0                                              False                                                                                                                                                                                                                                                                                                                 \n",
      "1                                              False                                                                                                                                                                                                                                                                                                                 \n",
      "2                                              False                                                                                                                                                                                                                                                                                                                 \n",
      "3                                              False                                                                                                                                                                                                                                                                                                                 \n",
      "4                                              False                                                                                                                                                                                                                                                                                                                 \n",
      "\n",
      "   age;\"job\";\"marital\";\"education\";\"default\";\"housing\";\"loan\";\"contact\";\"month\";\"day_of_week\";\"duration\";\"campaign\";\"pdays\";\"previous\";\"poutcome\";\"emp.var.rate\";\"cons.price.idx\";\"cons.conf.idx\";\"euribor3m\";\"nr.employed\";\"y\"_18;\"student\";\"single\";\"basic.4y\";\"no\";\"yes\";\"yes\";\"cellular\";\"apr\";\"thu\";184;2;999;0;\"nonexistent\";-1.8;93.075;-47.1;1.365;5099.1;\"no\"  \\\n",
      "0                                              False                                                                                                                                                                                                                                                                                                                     \n",
      "1                                              False                                                                                                                                                                                                                                                                                                                     \n",
      "2                                              False                                                                                                                                                                                                                                                                                                                     \n",
      "3                                              False                                                                                                                                                                                                                                                                                                                     \n",
      "4                                              False                                                                                                                                                                                                                                                                                                                     \n",
      "\n",
      "   age;\"job\";\"marital\";\"education\";\"default\";\"housing\";\"loan\";\"contact\";\"month\";\"day_of_week\";\"duration\";\"campaign\";\"pdays\";\"previous\";\"poutcome\";\"emp.var.rate\";\"cons.price.idx\";\"cons.conf.idx\";\"euribor3m\";\"nr.employed\";\"y\"_18;\"student\";\"single\";\"basic.6y\";\"no\";\"no\";\"yes\";\"cellular\";\"oct\";\"fri\";368;2;999;0;\"nonexistent\";-3.4;92.431;-26.9;0.72;5017.5;\"yes\"  \\\n",
      "0                                              False                                                                                                                                                                                                                                                                                                                    \n",
      "1                                              False                                                                                                                                                                                                                                                                                                                    \n",
      "2                                              False                                                                                                                                                                                                                                                                                                                    \n",
      "3                                              False                                                                                                                                                                                                                                                                                                                    \n",
      "4                                              False                                                                                                                                                                                                                                                                                                                    \n",
      "\n",
      "   age;\"job\";\"marital\";\"education\";\"default\";\"housing\";\"loan\";\"contact\";\"month\";\"day_of_week\";\"duration\";\"campaign\";\"pdays\";\"previous\";\"poutcome\";\"emp.var.rate\";\"cons.price.idx\";\"cons.conf.idx\";\"euribor3m\";\"nr.employed\";\"y\"_18;\"student\";\"single\";\"basic.6y\";\"no\";\"yes\";\"no\";\"cellular\";\"aug\";\"mon\";628;1;999;0;\"nonexistent\";-2.9;92.201;-31.4;0.861;5076.2;\"no\"  \\\n",
      "0                                              False                                                                                                                                                                                                                                                                                                                    \n",
      "1                                              False                                                                                                                                                                                                                                                                                                                    \n",
      "2                                              False                                                                                                                                                                                                                                                                                                                    \n",
      "3                                              False                                                                                                                                                                                                                                                                                                                    \n",
      "4                                              False                                                                                                                                                                                                                                                                                                                    \n",
      "\n",
      "   ...  \\\n",
      "0  ...   \n",
      "1  ...   \n",
      "2  ...   \n",
      "3  ...   \n",
      "4  ...   \n",
      "\n",
      "   age;\"job\";\"marital\";\"education\";\"default\";\"housing\";\"loan\";\"contact\";\"month\";\"day_of_week\";\"duration\";\"campaign\";\"pdays\";\"previous\";\"poutcome\";\"emp.var.rate\";\"cons.price.idx\";\"cons.conf.idx\";\"euribor3m\";\"nr.employed\";\"y\"_91;\"retired\";\"married\";\"university.degree\";\"no\";\"no\";\"yes\";\"cellular\";\"sep\";\"wed\";223;2;999;0;\"nonexistent\";-3.4;92.379;-29.8;0.781;5017.5;\"no\"  \\\n",
      "0                                              False                                                                                                                                                                                                                                                                                                                              \n",
      "1                                              False                                                                                                                                                                                                                                                                                                                              \n",
      "2                                              False                                                                                                                                                                                                                                                                                                                              \n",
      "3                                              False                                                                                                                                                                                                                                                                                                                              \n",
      "4                                              False                                                                                                                                                                                                                                                                                                                              \n",
      "\n",
      "   age;\"job\";\"marital\";\"education\";\"default\";\"housing\";\"loan\";\"contact\";\"month\";\"day_of_week\";\"duration\";\"campaign\";\"pdays\";\"previous\";\"poutcome\";\"emp.var.rate\";\"cons.price.idx\";\"cons.conf.idx\";\"euribor3m\";\"nr.employed\";\"y\"_91;\"retired\";\"married\";\"university.degree\";\"no\";\"yes\";\"yes\";\"cellular\";\"sep\";\"wed\";837;1;999;2;\"failure\";-3.4;92.379;-29.8;0.781;5017.5;\"no\"  \\\n",
      "0                                              False                                                                                                                                                                                                                                                                                                                           \n",
      "1                                              False                                                                                                                                                                                                                                                                                                                           \n",
      "2                                              False                                                                                                                                                                                                                                                                                                                           \n",
      "3                                              False                                                                                                                                                                                                                                                                                                                           \n",
      "4                                              False                                                                                                                                                                                                                                                                                                                           \n",
      "\n",
      "   age;\"job\";\"marital\";\"education\";\"default\";\"housing\";\"loan\";\"contact\";\"month\";\"day_of_week\";\"duration\";\"campaign\";\"pdays\";\"previous\";\"poutcome\";\"emp.var.rate\";\"cons.price.idx\";\"cons.conf.idx\";\"euribor3m\";\"nr.employed\";\"y\"_92;\"retired\";\"divorced\";\"unknown\";\"unknown\";\"no\";\"no\";\"cellular\";\"may\";\"wed\";405;3;999;1;\"failure\";-1.8;93.876;-40;0.697;5008.7;\"yes\"  \\\n",
      "0                                              False                                                                                                                                                                                                                                                                                                                    \n",
      "1                                              False                                                                                                                                                                                                                                                                                                                    \n",
      "2                                              False                                                                                                                                                                                                                                                                                                                    \n",
      "3                                              False                                                                                                                                                                                                                                                                                                                    \n",
      "4                                              False                                                                                                                                                                                                                                                                                                                    \n",
      "\n",
      "   age;\"job\";\"marital\";\"education\";\"default\";\"housing\";\"loan\";\"contact\";\"month\";\"day_of_week\";\"duration\";\"campaign\";\"pdays\";\"previous\";\"poutcome\";\"emp.var.rate\";\"cons.price.idx\";\"cons.conf.idx\";\"euribor3m\";\"nr.employed\";\"y\"_92;\"retired\";\"married\";\"unknown\";\"no\";\"no\";\"yes\";\"cellular\";\"aug\";\"tue\";1064;1;3;1;\"success\";-1.7;94.027;-38.3;0.904;4991.6;\"yes\"  \\\n",
      "0                                              False                                                                                                                                                                                                                                                                                                                \n",
      "1                                              False                                                                                                                                                                                                                                                                                                                \n",
      "2                                              False                                                                                                                                                                                                                                                                                                                \n",
      "3                                              False                                                                                                                                                                                                                                                                                                                \n",
      "4                                              False                                                                                                                                                                                                                                                                                                                \n",
      "\n",
      "   age;\"job\";\"marital\";\"education\";\"default\";\"housing\";\"loan\";\"contact\";\"month\";\"day_of_week\";\"duration\";\"campaign\";\"pdays\";\"previous\";\"poutcome\";\"emp.var.rate\";\"cons.price.idx\";\"cons.conf.idx\";\"euribor3m\";\"nr.employed\";\"y\"_92;\"retired\";\"married\";\"unknown\";\"no\";\"no\";\"yes\";\"cellular\";\"aug\";\"wed\";370;1;3;4;\"success\";-1.7;94.027;-38.3;0.903;4991.6;\"yes\"  \\\n",
      "0                                              False                                                                                                                                                                                                                                                                                                               \n",
      "1                                              False                                                                                                                                                                                                                                                                                                               \n",
      "2                                              False                                                                                                                                                                                                                                                                                                               \n",
      "3                                              False                                                                                                                                                                                                                                                                                                               \n",
      "4                                              False                                                                                                                                                                                                                                                                                                               \n",
      "\n",
      "   age;\"job\";\"marital\";\"education\";\"default\";\"housing\";\"loan\";\"contact\";\"month\";\"day_of_week\";\"duration\";\"campaign\";\"pdays\";\"previous\";\"poutcome\";\"emp.var.rate\";\"cons.price.idx\";\"cons.conf.idx\";\"euribor3m\";\"nr.employed\";\"y\"_92;\"retired\";\"married\";\"unknown\";\"no\";\"yes\";\"no\";\"cellular\";\"may\";\"thu\";271;1;6;2;\"success\";-1.8;93.876;-40;0.683;5008.7;\"no\"  \\\n",
      "0                                              False                                                                                                                                                                                                                                                                                                            \n",
      "1                                              False                                                                                                                                                                                                                                                                                                            \n",
      "2                                              False                                                                                                                                                                                                                                                                                                            \n",
      "3                                              False                                                                                                                                                                                                                                                                                                            \n",
      "4                                              False                                                                                                                                                                                                                                                                                                            \n",
      "\n",
      "   age;\"job\";\"marital\";\"education\";\"default\";\"housing\";\"loan\";\"contact\";\"month\";\"day_of_week\";\"duration\";\"campaign\";\"pdays\";\"previous\";\"poutcome\";\"emp.var.rate\";\"cons.price.idx\";\"cons.conf.idx\";\"euribor3m\";\"nr.employed\";\"y\"_94;\"retired\";\"married\";\"basic.9y\";\"no\";\"no\";\"no\";\"cellular\";\"nov\";\"wed\";134;1;999;1;\"failure\";-3.4;92.649;-30.1;0.716;5017.5;\"no\"  \\\n",
      "0                                              False                                                                                                                                                                                                                                                                                                                \n",
      "1                                              False                                                                                                                                                                                                                                                                                                                \n",
      "2                                              False                                                                                                                                                                                                                                                                                                                \n",
      "3                                              False                                                                                                                                                                                                                                                                                                                \n",
      "4                                              False                                                                                                                                                                                                                                                                                                                \n",
      "\n",
      "   age;\"job\";\"marital\";\"education\";\"default\";\"housing\";\"loan\";\"contact\";\"month\";\"day_of_week\";\"duration\";\"campaign\";\"pdays\";\"previous\";\"poutcome\";\"emp.var.rate\";\"cons.price.idx\";\"cons.conf.idx\";\"euribor3m\";\"nr.employed\";\"y\"_95;\"retired\";\"divorced\";\"basic.6y\";\"no\";\"no\";\"no\";\"cellular\";\"mar\";\"thu\";85;1;999;0;\"nonexistent\";-1.8;92.843;-50;1.65;5099.1;\"no\"  \\\n",
      "0                                              False                                                                                                                                                                                                                                                                                                                 \n",
      "1                                              False                                                                                                                                                                                                                                                                                                                 \n",
      "2                                              False                                                                                                                                                                                                                                                                                                                 \n",
      "3                                              False                                                                                                                                                                                                                                                                                                                 \n",
      "4                                              False                                                                                                                                                                                                                                                                                                                 \n",
      "\n",
      "   age;\"job\";\"marital\";\"education\";\"default\";\"housing\";\"loan\";\"contact\";\"month\";\"day_of_week\";\"duration\";\"campaign\";\"pdays\";\"previous\";\"poutcome\";\"emp.var.rate\";\"cons.price.idx\";\"cons.conf.idx\";\"euribor3m\";\"nr.employed\";\"y\"_98;\"retired\";\"married\";\"basic.4y\";\"unknown\";\"yes\";\"no\";\"cellular\";\"oct\";\"fri\";272;2;999;0;\"nonexistent\";-3.4;92.431;-26.9;0.73;5017.5;\"yes\"  \\\n",
      "0                                              False                                                                                                                                                                                                                                                                                                                          \n",
      "1                                              False                                                                                                                                                                                                                                                                                                                          \n",
      "2                                              False                                                                                                                                                                                                                                                                                                                          \n",
      "3                                              False                                                                                                                                                                                                                                                                                                                          \n",
      "4                                              False                                                                                                                                                                                                                                                                                                                          \n",
      "\n",
      "   age;\"job\";\"marital\";\"education\";\"default\";\"housing\";\"loan\";\"contact\";\"month\";\"day_of_week\";\"duration\";\"campaign\";\"pdays\";\"previous\";\"poutcome\";\"emp.var.rate\";\"cons.price.idx\";\"cons.conf.idx\";\"euribor3m\";\"nr.employed\";\"y\"_98;\"retired\";\"married\";\"basic.4y\";\"unknown\";\"yes\";\"no\";\"cellular\";\"oct\";\"fri\";476;1;2;2;\"success\";-3.4;92.431;-26.9;0.73;5017.5;\"yes\"  \n",
      "0                                              False                                                                                                                                                                                                                                                                                                                   \n",
      "1                                              False                                                                                                                                                                                                                                                                                                                   \n",
      "2                                              False                                                                                                                                                                                                                                                                                                                   \n",
      "3                                              False                                                                                                                                                                                                                                                                                                                   \n",
      "4                                              False                                                                                                                                                                                                                                                                                                                   \n",
      "\n",
      "[5 rows x 41175 columns]\n"
     ]
    }
   ],
   "source": [
    "# Step 7: Verify that scaling has been applied correctly\n",
    "print(bank_additional_full.head())\n"
   ]
  },
  {
   "cell_type": "code",
   "execution_count": null,
   "id": "835409ba-84ae-4a99-a7bf-78461c1b1c9d",
   "metadata": {},
   "outputs": [],
   "source": []
  },
  {
   "cell_type": "code",
   "execution_count": null,
   "id": "a2db6aee-a04f-431b-a640-78d02390ec1c",
   "metadata": {},
   "outputs": [],
   "source": []
  },
  {
   "cell_type": "code",
   "execution_count": null,
   "id": "3bb781e0-4240-4c26-837d-5ba05d8f98b8",
   "metadata": {},
   "outputs": [],
   "source": []
  }
 ],
 "metadata": {
  "kernelspec": {
   "display_name": "Python 3 (ipykernel)",
   "language": "python",
   "name": "python3"
  },
  "language_info": {
   "codemirror_mode": {
    "name": "ipython",
    "version": 3
   },
   "file_extension": ".py",
   "mimetype": "text/x-python",
   "name": "python",
   "nbconvert_exporter": "python",
   "pygments_lexer": "ipython3",
   "version": "3.11.7"
  }
 },
 "nbformat": 4,
 "nbformat_minor": 5
}
