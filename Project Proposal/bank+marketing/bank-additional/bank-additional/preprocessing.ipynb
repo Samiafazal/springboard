{
 "cells": [
  {
   "cell_type": "code",
   "execution_count": 8,
   "id": "334f9a69-8391-4255-9493-9d70f178a207",
   "metadata": {},
   "outputs": [
    {
     "name": "stdout",
     "output_type": "stream",
     "text": [
      "Requirement already satisfied: xgboost in c:\\users\\samia\\anaconda3\\lib\\site-packages (3.0.0)\n",
      "Requirement already satisfied: numpy in c:\\users\\samia\\anaconda3\\lib\\site-packages (from xgboost) (1.26.4)\n",
      "Requirement already satisfied: scipy in c:\\users\\samia\\anaconda3\\lib\\site-packages (from xgboost) (1.11.4)\n"
     ]
    }
   ],
   "source": [
    "!pip install xgboost\n"
   ]
  },
  {
   "cell_type": "code",
   "execution_count": 9,
   "id": "0849e8c6-a191-4de3-acbc-336d67d8fcd1",
   "metadata": {},
   "outputs": [],
   "source": [
    "import os\n",
    "import pandas as pd\n",
    "import numpy as np\n",
    "from sklearn.preprocessing import StandardScaler\n",
    "from sklearn.model_selection import train_test_split\n",
    "from sklearn.ensemble import RandomForestClassifier\n",
    "from xgboost import XGBClassifier\n",
    "from sklearn.linear_model import LogisticRegression\n",
    "from sklearn.metrics import accuracy_score, classification_report\n",
    "\n",
    "# Load the dataset\n",
    "file_path = r\"C:\\Users\\samia\\OneDrive\\Documents\\GitHub\\springboard\\Project Proposal\\bank+marketing\\bank-additional\\bank-additional\\bank-additional-full.csv\"\n",
    "\n",
    "# Check if the file exists and load the data\n",
    "if os.path.exists(file_path):\n",
    "    bank_additional_full = pd.read_csv(file_path, sep=';')  # Ensure correct separator\n",
    "else:\n",
    "    print(f\"File not found: {file_path}\")\n",
    "    exit()"
   ]
  },
  {
   "cell_type": "code",
   "execution_count": 10,
   "id": "9e329a5b-649e-49ef-96a4-235249fdf766",
   "metadata": {},
   "outputs": [],
   "source": [
    "# Handle missing values\n",
    "bank_additional_full.fillna(bank_additional_full.median(numeric_only=True), inplace=True)\n",
    "\n",
    "# Identify feature columns\n",
    "target_column = \"y\"  # Update if needed\n",
    "if target_column not in bank_additional_full.columns:\n",
    "    print(\"Error: Target column not found.\")\n",
    "    exit()\n",
    "\n",
    "X = bank_additional_full.drop(columns=[target_column])\n",
    "y = bank_additional_full[target_column].map({'yes': 1, 'no': 0})  # Convert target to binary"
   ]
  },
  {
   "cell_type": "code",
   "execution_count": 12,
   "id": "0587d306-f154-44d6-aaef-f004201c2ed4",
   "metadata": {},
   "outputs": [
    {
     "name": "stdout",
     "output_type": "stream",
     "text": [
      "(32950, 20)\n"
     ]
    }
   ],
   "source": [
    "print(X_train.shape)\n",
    "# Train-Test Split\n",
    "X_train, X_test, y_train, y_test = train_test_split(X, y, test_size=0.2, random_state=42, stratify=y)"
   ]
  },
  {
   "cell_type": "code",
   "execution_count": 13,
   "id": "1d712a6c-61bc-44d5-9936-b4507527dd48",
   "metadata": {},
   "outputs": [],
   "source": [
    "# Convert categorical columns to dummies\n",
    "categorical_columns = X_train.select_dtypes(include=['object']).columns\n",
    "X_train = pd.get_dummies(X_train, columns=categorical_columns, drop_first=True)\n",
    "X_test = pd.get_dummies(X_test, columns=categorical_columns, drop_first=True)\n"
   ]
  },
  {
   "cell_type": "code",
   "execution_count": 14,
   "id": "f7254396-b950-421a-9d4e-86fb2c458b74",
   "metadata": {},
   "outputs": [],
   "source": [
    "# Ensure train & test have the same columns\n",
    "missing_cols = set(X_train.columns) - set(X_test.columns)\n",
    "for col in missing_cols:\n",
    "    X_test[col] = 0  # Add missing columns in test set\n",
    "X_test = X_test[X_train.columns]  # Reorder columns to match training set\n"
   ]
  },
  {
   "cell_type": "code",
   "execution_count": 15,
   "id": "46b63dc7-ccda-4e13-a1b5-034387ebcb74",
   "metadata": {},
   "outputs": [],
   "source": [
    "# Standardize Numeric Features\n",
    "numeric_columns = X_train.select_dtypes(include=['int64', 'float64']).columns\n",
    "scaler = StandardScaler()\n",
    "X_train.loc[:, numeric_columns] = scaler.fit_transform(X_train[numeric_columns])\n",
    "X_test.loc[:, numeric_columns] = scaler.transform(X_test[numeric_columns])"
   ]
  },
  {
   "cell_type": "code",
   "execution_count": 16,
   "id": "8dc0e049-0679-4079-8b9b-7b728119b686",
   "metadata": {},
   "outputs": [
    {
     "name": "stdout",
     "output_type": "stream",
     "text": [
      "Random Forest Accuracy: 0.915877640203933\n",
      "Random Forest Classification Report:\n",
      "               precision    recall  f1-score   support\n",
      "\n",
      "           0       0.94      0.97      0.95      7310\n",
      "           1       0.67      0.49      0.57       928\n",
      "\n",
      "    accuracy                           0.92      8238\n",
      "   macro avg       0.81      0.73      0.76      8238\n",
      "weighted avg       0.91      0.92      0.91      8238\n",
      "\n"
     ]
    }
   ],
   "source": [
    "# Train and evaluate Random Forest\n",
    "rf_model = RandomForestClassifier(n_estimators=100, random_state=42)\n",
    "rf_model.fit(X_train, y_train)\n",
    "y_pred_rf = rf_model.predict(X_test)\n",
    "print(\"Random Forest Accuracy:\", accuracy_score(y_test, y_pred_rf))\n",
    "print(\"Random Forest Classification Report:\\n\", classification_report(y_test, y_pred_rf))"
   ]
  },
  {
   "cell_type": "code",
   "execution_count": 17,
   "id": "82b9ce72-38d1-4178-99d5-8640fb55f713",
   "metadata": {},
   "outputs": [
    {
     "name": "stderr",
     "output_type": "stream",
     "text": [
      "C:\\Users\\samia\\anaconda3\\Lib\\site-packages\\xgboost\\training.py:183: UserWarning: [00:46:57] WARNING: C:\\actions-runner\\_work\\xgboost\\xgboost\\src\\learner.cc:738: \n",
      "Parameters: { \"use_label_encoder\" } are not used.\n",
      "\n",
      "  bst.update(dtrain, iteration=i, fobj=obj)\n"
     ]
    },
    {
     "name": "stdout",
     "output_type": "stream",
     "text": [
      "XGBoost Accuracy: 0.9174556931294003\n",
      "XGBoost Classification Report:\n",
      "               precision    recall  f1-score   support\n",
      "\n",
      "           0       0.94      0.96      0.95      7310\n",
      "           1       0.66      0.55      0.60       928\n",
      "\n",
      "    accuracy                           0.92      8238\n",
      "   macro avg       0.80      0.76      0.78      8238\n",
      "weighted avg       0.91      0.92      0.91      8238\n",
      "\n"
     ]
    }
   ],
   "source": [
    "# Train and evaluate XGBoost\n",
    "xgb_model = XGBClassifier(use_label_encoder=False, eval_metric='logloss', random_state=42)\n",
    "xgb_model.fit(X_train, y_train)\n",
    "y_pred_xgb = xgb_model.predict(X_test)\n",
    "print(\"XGBoost Accuracy:\", accuracy_score(y_test, y_pred_xgb))\n",
    "print(\"XGBoost Classification Report:\\n\", classification_report(y_test, y_pred_xgb))"
   ]
  },
  {
   "cell_type": "code",
   "execution_count": 18,
   "id": "faf4c89e-64fd-4906-8df7-1393e207a8a3",
   "metadata": {},
   "outputs": [
    {
     "name": "stdout",
     "output_type": "stream",
     "text": [
      "Logistic Regression Accuracy: 0.9159990288905074\n",
      "Logistic Regression Classification Report:\n",
      "               precision    recall  f1-score   support\n",
      "\n",
      "           0       0.93      0.98      0.95      7310\n",
      "           1       0.71      0.43      0.54       928\n",
      "\n",
      "    accuracy                           0.92      8238\n",
      "   macro avg       0.82      0.70      0.75      8238\n",
      "weighted avg       0.91      0.92      0.91      8238\n",
      "\n"
     ]
    }
   ],
   "source": [
    "# Train and evaluate Logistic Regression\n",
    "lr_model = LogisticRegression(max_iter=1000, random_state=42)\n",
    "lr_model.fit(X_train, y_train)\n",
    "y_pred_lr = lr_model.predict(X_test)\n",
    "print(\"Logistic Regression Accuracy:\", accuracy_score(y_test, y_pred_lr))\n",
    "print(\"Logistic Regression Classification Report:\\n\", classification_report(y_test, y_pred_lr))"
   ]
  },
  {
   "cell_type": "code",
   "execution_count": null,
   "id": "835409ba-84ae-4a99-a7bf-78461c1b1c9d",
   "metadata": {},
   "outputs": [],
   "source": []
  },
  {
   "cell_type": "code",
   "execution_count": null,
   "id": "a2db6aee-a04f-431b-a640-78d02390ec1c",
   "metadata": {},
   "outputs": [],
   "source": []
  },
  {
   "cell_type": "code",
   "execution_count": null,
   "id": "3bb781e0-4240-4c26-837d-5ba05d8f98b8",
   "metadata": {},
   "outputs": [],
   "source": []
  },
  {
   "cell_type": "code",
   "execution_count": null,
   "id": "12f0531b-c106-47ac-9891-d9148f7dcc43",
   "metadata": {},
   "outputs": [],
   "source": []
  }
 ],
 "metadata": {
  "kernelspec": {
   "display_name": "Python 3 (ipykernel)",
   "language": "python",
   "name": "python3"
  },
  "language_info": {
   "codemirror_mode": {
    "name": "ipython",
    "version": 3
   },
   "file_extension": ".py",
   "mimetype": "text/x-python",
   "name": "python",
   "nbconvert_exporter": "python",
   "pygments_lexer": "ipython3",
   "version": "3.11.7"
  }
 },
 "nbformat": 4,
 "nbformat_minor": 5
}
