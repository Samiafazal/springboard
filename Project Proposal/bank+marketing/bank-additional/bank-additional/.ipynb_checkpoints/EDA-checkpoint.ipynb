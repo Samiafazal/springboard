{
 "cells": [
  {
   "cell_type": "code",
   "execution_count": 11,
   "id": "fbb745cd-c229-4fed-87f1-64b01dbbf472",
   "metadata": {},
   "outputs": [
    {
     "name": "stdout",
     "output_type": "stream",
     "text": [
      "Does the full dataset file exist? True\n",
      "Does the additional dataset file exist? True\n",
      "  age;\"job\";\"marital\";\"education\";\"default\";\"housing\";\"loan\";\"contact\";\"month\";\"day_of_week\";\"duration\";\"campaign\";\"pdays\";\"previous\";\"poutcome\";\"emp.var.rate\";\"cons.price.idx\";\"cons.conf.idx\";\"euribor3m\";\"nr.employed\";\"y\"\n",
      "0  56;\"housemaid\";\"married\";\"basic.4y\";\"no\";\"no\";...                                                                                                                                                                          \n",
      "1  57;\"services\";\"married\";\"high.school\";\"unknown...                                                                                                                                                                          \n",
      "2  37;\"services\";\"married\";\"high.school\";\"no\";\"ye...                                                                                                                                                                          \n",
      "3  40;\"admin.\";\"married\";\"basic.6y\";\"no\";\"no\";\"no...                                                                                                                                                                          \n",
      "4  56;\"services\";\"married\";\"high.school\";\"no\";\"no...                                                                                                                                                                          \n"
     ]
    }
   ],
   "source": [
    "import pandas as pd\n",
    "import numpy as np\n",
    "import matplotlib.pyplot as plt\n",
    "import seaborn as sns\n",
    "from scipy.stats import ttest_ind, chi2_contingency, pearsonr\n",
    "\n",
    "# Load each dataset\n",
    "import pandas as pd\n",
    "import os\n",
    "\n",
    "# Define file paths\n",
    "#file_path = r\"C:\\Users\\samia\\OneDrive\\Documents\\GitHub\\springboard\\Project Proposal\\bank-additional\\bank-additional-full.csv\"\n",
    "#file_path1 = r\"C:\\Users\\samia\\OneDrive\\Documents\\GitHub\\springboard\\Project Proposal\\bank-marketing\\bank-additional\\bank-additional.csv\"\n",
    "file_path = r\"C:\\Users\\samia\\OneDrive\\Documents\\GitHub\\springboard\\Project Proposal\\bank+marketing\\bank-additional\\bank-additional\\bank-additional-full.csv\"\n",
    "file_path1=r\"C:\\Users\\samia\\OneDrive\\Documents\\GitHub\\springboard\\Project Proposal\\bank+marketing\\bank-additional\\bank-additional\\bank-additional.csv\"\n",
    "# Check if files exist\n",
    "print(\"Does the full dataset file exist?\", os.path.exists(file_path))\n",
    "print(\"Does the additional dataset file exist?\", os.path.exists(file_path1))\n",
    "\n",
    "# Load datasets if they exist\n",
    "if os.path.exists(file_path):\n",
    "    bank_additional_full = pd.read_csv(file_path)\n",
    "else:\n",
    "    print(f\"File not found: {file_path}\")\n",
    "\n",
    "if os.path.exists(file_path1):\n",
    "    bank_full = pd.read_csv(file_path1)\n",
    "else:\n",
    "    print(f\"File not found: {file_path1}\")\n",
    "\n",
    "# Check the data from the first dataset\n",
    "if 'bank_additional_full' in locals():\n",
    "    print(bank_additional_full.head())"
   ]
  },
  {
   "cell_type": "code",
   "execution_count": 12,
   "id": "fda263c9-6ce8-483c-9d31-c8fc494cd246",
   "metadata": {},
   "outputs": [],
   "source": [
    "# Load datasets\n",
    "data_full = pd.read_csv(file_path, sep=';')\n",
    "data_sample = pd.read_csv(file_path1, sep=';')"
   ]
  },
  {
   "cell_type": "code",
   "execution_count": 13,
   "id": "a510a16c-67e7-44ca-823c-44bce0091c11",
   "metadata": {},
   "outputs": [
    {
     "name": "stdout",
     "output_type": "stream",
     "text": [
      "   age        job  marital    education  default housing loan    contact  \\\n",
      "0   56  housemaid  married     basic.4y       no      no   no  telephone   \n",
      "1   57   services  married  high.school  unknown      no   no  telephone   \n",
      "2   37   services  married  high.school       no     yes   no  telephone   \n",
      "3   40     admin.  married     basic.6y       no      no   no  telephone   \n",
      "4   56   services  married  high.school       no      no  yes  telephone   \n",
      "\n",
      "  month day_of_week  ...  campaign  pdays  previous     poutcome emp.var.rate  \\\n",
      "0   may         mon  ...         1    999         0  nonexistent          1.1   \n",
      "1   may         mon  ...         1    999         0  nonexistent          1.1   \n",
      "2   may         mon  ...         1    999         0  nonexistent          1.1   \n",
      "3   may         mon  ...         1    999         0  nonexistent          1.1   \n",
      "4   may         mon  ...         1    999         0  nonexistent          1.1   \n",
      "\n",
      "   cons.price.idx  cons.conf.idx  euribor3m  nr.employed   y  \n",
      "0          93.994          -36.4      4.857       5191.0  no  \n",
      "1          93.994          -36.4      4.857       5191.0  no  \n",
      "2          93.994          -36.4      4.857       5191.0  no  \n",
      "3          93.994          -36.4      4.857       5191.0  no  \n",
      "4          93.994          -36.4      4.857       5191.0  no  \n",
      "\n",
      "[5 rows x 21 columns]\n",
      "<class 'pandas.core.frame.DataFrame'>\n",
      "RangeIndex: 41188 entries, 0 to 41187\n",
      "Data columns (total 21 columns):\n",
      " #   Column          Non-Null Count  Dtype  \n",
      "---  ------          --------------  -----  \n",
      " 0   age             41188 non-null  int64  \n",
      " 1   job             41188 non-null  object \n",
      " 2   marital         41188 non-null  object \n",
      " 3   education       41188 non-null  object \n",
      " 4   default         41188 non-null  object \n",
      " 5   housing         41188 non-null  object \n",
      " 6   loan            41188 non-null  object \n",
      " 7   contact         41188 non-null  object \n",
      " 8   month           41188 non-null  object \n",
      " 9   day_of_week     41188 non-null  object \n",
      " 10  duration        41188 non-null  int64  \n",
      " 11  campaign        41188 non-null  int64  \n",
      " 12  pdays           41188 non-null  int64  \n",
      " 13  previous        41188 non-null  int64  \n",
      " 14  poutcome        41188 non-null  object \n",
      " 15  emp.var.rate    41188 non-null  float64\n",
      " 16  cons.price.idx  41188 non-null  float64\n",
      " 17  cons.conf.idx   41188 non-null  float64\n",
      " 18  euribor3m       41188 non-null  float64\n",
      " 19  nr.employed     41188 non-null  float64\n",
      " 20  y               41188 non-null  object \n",
      "dtypes: float64(5), int64(5), object(11)\n",
      "memory usage: 6.6+ MB\n",
      "None\n",
      "               age      duration      campaign         pdays      previous  \\\n",
      "count  41188.00000  41188.000000  41188.000000  41188.000000  41188.000000   \n",
      "mean      40.02406    258.285010      2.567593    962.475454      0.172963   \n",
      "std       10.42125    259.279249      2.770014    186.910907      0.494901   \n",
      "min       17.00000      0.000000      1.000000      0.000000      0.000000   \n",
      "25%       32.00000    102.000000      1.000000    999.000000      0.000000   \n",
      "50%       38.00000    180.000000      2.000000    999.000000      0.000000   \n",
      "75%       47.00000    319.000000      3.000000    999.000000      0.000000   \n",
      "max       98.00000   4918.000000     56.000000    999.000000      7.000000   \n",
      "\n",
      "       emp.var.rate  cons.price.idx  cons.conf.idx     euribor3m   nr.employed  \n",
      "count  41188.000000    41188.000000   41188.000000  41188.000000  41188.000000  \n",
      "mean       0.081886       93.575664     -40.502600      3.621291   5167.035911  \n",
      "std        1.570960        0.578840       4.628198      1.734447     72.251528  \n",
      "min       -3.400000       92.201000     -50.800000      0.634000   4963.600000  \n",
      "25%       -1.800000       93.075000     -42.700000      1.344000   5099.100000  \n",
      "50%        1.100000       93.749000     -41.800000      4.857000   5191.000000  \n",
      "75%        1.400000       93.994000     -36.400000      4.961000   5228.100000  \n",
      "max        1.400000       94.767000     -26.900000      5.045000   5228.100000  \n"
     ]
    }
   ],
   "source": [
    "# Inspect the data\n",
    "print(data_full.head())\n",
    "print(data_full.info())\n",
    "print(data_full.describe())"
   ]
  },
  {
   "cell_type": "code",
   "execution_count": 14,
   "id": "01f59a41-1d36-4d63-9d85-e87908a5e84f",
   "metadata": {},
   "outputs": [
    {
     "name": "stdout",
     "output_type": "stream",
     "text": [
      "Missing values:\n",
      " age               0\n",
      "job               0\n",
      "marital           0\n",
      "education         0\n",
      "default           0\n",
      "housing           0\n",
      "loan              0\n",
      "contact           0\n",
      "month             0\n",
      "day_of_week       0\n",
      "duration          0\n",
      "campaign          0\n",
      "pdays             0\n",
      "previous          0\n",
      "poutcome          0\n",
      "emp.var.rate      0\n",
      "cons.price.idx    0\n",
      "cons.conf.idx     0\n",
      "euribor3m         0\n",
      "nr.employed       0\n",
      "y                 0\n",
      "dtype: int64\n"
     ]
    }
   ],
   "source": [
    "# Check for missing values\n",
    "missing_values = data_full.isnull().sum()\n",
    "print(\"Missing values:\\n\", missing_values)"
   ]
  },
  {
   "cell_type": "code",
   "execution_count": 15,
   "id": "928b1811-a46f-4f0a-8847-4c63bc22263b",
   "metadata": {},
   "outputs": [
    {
     "name": "stdout",
     "output_type": "stream",
     "text": [
      "T-test for age: t-stat = 6.172087109640128, p-value = 6.80213641846347e-10\n",
      "T-test for duration: t-stat = 89.9672253349018, p-value = 0.0\n",
      "T-test for campaign: t-stat = -13.496542997299592, p-value = 2.0077799906175704e-41\n",
      "T-test for pdays: t-stat = -69.72211465560429, p-value = 0.0\n",
      "T-test for previous: t-stat = 48.00267792469279, p-value = 0.0\n",
      "T-test for emp.var.rate: t-stat = -63.43366555294073, p-value = 0.0\n",
      "T-test for cons.price.idx: t-stat = -27.90322177969163, p-value = 9.318964779131688e-170\n",
      "T-test for cons.conf.idx: t-stat = 11.153921944215297, p-value = 7.536664996589872e-29\n",
      "T-test for euribor3m: t-stat = -65.64662251866284, p-value = 0.0\n",
      "T-test for nr.employed: t-stat = -76.98448315100892, p-value = 0.0\n"
     ]
    }
   ],
   "source": [
    "# --- Step 1: Inferential Statistics ---\n",
    "# Example: T-test for numerical variables against the target variable\n",
    "target_var = 'y'  # Assuming 'y' is the response variable\n",
    "numerical_cols = data_full.select_dtypes(include=['float64', 'int64']).columns\n",
    "\n",
    "for col in numerical_cols:\n",
    "    yes_group = data_full[data_full[target_var] == 'yes'][col]\n",
    "    no_group = data_full[data_full[target_var] == 'no'][col]\n",
    "    t_stat, p_value = ttest_ind(yes_group, no_group, nan_policy='omit')\n",
    "    print(f\"T-test for {col}: t-stat = {t_stat}, p-value = {p_value}\")"
   ]
  },
  {
   "cell_type": "code",
   "execution_count": 21,
   "id": "0020217e-dc6d-4445-bfb5-bbae718c5ec4",
   "metadata": {},
   "outputs": [
    {
     "data": {
      "image/png": "[encoded data removed]",
      "text/plain": [
       "<Figure size 1000x800 with 2 Axes>"
      ]
     },
     "metadata": {},
     "output_type": "display_data"
    }
   ],
   "source": [
    "# --- Step 2: Explore Data Relationships ---\n",
    "# Heatmap for correlations\n",
    "corr_matrix = data_full[numerical_cols].corr()\n",
    "plt.figure(figsize=(10, 8))\n",
    "sns.heatmap(corr_matrix, annot=True, cmap='coolwarm')\n",
    "plt.title(\"Correlation Heatmap\")\n",
    "plt.show()"
   ]
  },
  {
   "cell_type": "code",
   "execution_count": 30,
   "id": "b558d6f5-39e4-4314-951b-5665a5f983f7",
   "metadata": {},
   "outputs": [
    {
     "name": "stdout",
     "output_type": "stream",
     "text": [
      "Invalid columns (not in DataFrame): ['age', 'duration', 'pdays']\n"
     ]
    }
   ],
   "source": [
    "# Example setup (replace with your actual DataFrame and variables)\n",
    "# data_full = pd.read_csv(\"path_to_your_data.csv\")  # Load your dataset\n",
    "# Replace `categorical_cols` and `target_var` with actual column names\n",
    "categorical_cols = ['age', 'duration', 'pdays']  # List of columns to analyze\n",
    "target_var = 'target_column'  # Your target variable (categorical)\n",
    "\n",
    "# Validate columns\n",
    "valid_cols = [col for col in categorical_cols if col in data_full.columns]\n",
    "invalid_cols = [col for col in categorical_cols if col not in data_full.columns]\n",
    "if invalid_cols:\n",
    "    print(f\"Invalid columns (not in DataFrame): {invalid_cols}\")\n",
    "\n",
    "# Loop through valid columns\n",
    "for col in valid_cols:\n",
    "    if col != target_var:\n",
    "        if pd.api.types.is_numeric_dtype(data_full[col]):\n",
    "            try:\n",
    "                sns.boxplot(data=data_full, x=target_var, y=data_full[col])\n",
    "                plt.title(f\"Boxplot of {col} vs {target_var}\")\n",
    "                plt.show()\n",
    "            except Exception as e:\n",
    "                print(f\"Error plotting boxplot for column '{col}': {e}\")\n",
    "        else:\n",
    "            print(f\"Skipping non-numeric column: {col}\")\n"
   ]
  },
  {
   "cell_type": "code",
   "execution_count": 27,
   "id": "5c826026-bcc0-4156-a96e-decf5341b62e",
   "metadata": {},
   "outputs": [],
   "source": [
    "# --- Step 3: Feature Selection and Engineering ---\n",
    "# Encode categorical variables\n",
    "data_encoded = pd.get_dummies(data_full, drop_first=True)\n",
    "\n",
    "# Handle missing values (example: fill with mean for numerical columns)\n",
    "data_encoded.fillna(data_encoded.mean(), inplace=True)"
   ]
  },
  {
   "cell_type": "code",
   "execution_count": 29,
   "id": "b249ab04-9b47-4733-83de-36a3ebee6ec9",
   "metadata": {},
   "outputs": [
    {
     "name": "stderr",
     "output_type": "stream",
     "text": [
      "C:\\Users\\samia\\anaconda3\\Lib\\site-packages\\pandas\\core\\arraylike.py:396: RuntimeWarning: invalid value encountered in log1p\n",
      "  result = getattr(ufunc, method)(*inputs, **kwargs)\n"
     ]
    }
   ],
   "source": [
    "# Standardize numerical features\n",
    "from sklearn.preprocessing import StandardScaler\n",
    "\n",
    "scaler = StandardScaler()\n",
    "data_encoded[numerical_cols] = scaler.fit_transform(data_encoded[numerical_cols])\n",
    "\n",
    "# Optional: Log-transform skewed variables\n",
    "for col in numerical_cols:\n",
    "    if data_encoded[col].skew() > 1 or data_encoded[col].skew() < -1:\n",
    "        data_encoded[col] = np.log1p(data_encoded[col])"
   ]
  },
  {
   "cell_type": "code",
   "execution_count": 31,
   "id": "db97cec4-0b2d-460c-8dcc-22df439e7777",
   "metadata": {},
   "outputs": [
    {
     "name": "stdout",
     "output_type": "stream",
     "text": [
      "Highly correlated features: ['euribor3m', 'nr.employed']\n"
     ]
    }
   ],
   "source": [
    "# Feature selection example: Correlation threshold\n",
    "threshold = 0.8\n",
    "upper_triangle = corr_matrix.where(np.triu(np.ones(corr_matrix.shape), k=1).astype(bool))\n",
    "high_corr_features = [column for column in upper_triangle.columns if any(upper_triangle[column] > threshold)]\n",
    "print(\"Highly correlated features:\", high_corr_features)"
   ]
  },
  {
   "cell_type": "code",
   "execution_count": 32,
   "id": "c70a822d-da59-48e2-86aa-d70fe5d9afb8",
   "metadata": {},
   "outputs": [],
   "source": [
    "# Drop highly correlated features\n",
    "data_reduced = data_encoded.drop(high_corr_features, axis=1)"
   ]
  },
  {
   "cell_type": "code",
   "execution_count": 33,
   "id": "27e31ce3-c147-4344-8747-58b5da71735d",
   "metadata": {},
   "outputs": [
    {
     "name": "stdout",
     "output_type": "stream",
     "text": [
      "Processed data saved to C:\\Users\\samia\\OneDrive\\Documents\\GitHub\\springboard\\Project Proposal\\processed_data.csv\n"
     ]
    }
   ],
   "source": [
    "# Save cleaned and processed data\n",
    "processed_file_path = r\"C:\\Users\\samia\\OneDrive\\Documents\\GitHub\\springboard\\Project Proposal\\processed_data.csv\"\n",
    "data_reduced.to_csv(processed_file_path, index=False)\n",
    "print(f\"Processed data saved to {processed_file_path}\")"
   ]
  },
  {
   "cell_type": "code",
   "execution_count": null,
   "id": "47163e48-1600-47c0-b741-a4fcd9f802c7",
   "metadata": {},
   "outputs": [],
   "source": []
  }
 ],
 "metadata": {
  "kernelspec": {
   "display_name": "Python 3 (ipykernel)",
   "language": "python",
   "name": "python3"
  },
  "language_info": {
   "codemirror_mode": {
    "name": "ipython",
    "version": 3
   },
   "file_extension": ".py",
   "mimetype": "text/x-python",
   "name": "python",
   "nbconvert_exporter": "python",
   "pygments_lexer": "ipython3",
   "version": "3.11.7"
  }
 },
 "nbformat": 4,
 "nbformat_minor": 5
}
