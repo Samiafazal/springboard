{
 "cells": [
  {
   "cell_type": "code",
   "execution_count": 5,
   "id": "d27f79c7-2a23-4e01-ab4b-43764a0268b3",
   "metadata": {},
   "outputs": [],
   "source": [
    "# Import libraries\n",
    "import pandas as pd\n",
    "from sklearn.preprocessing import StandardScaler\n",
    "from sklearn.model_selection import train_test_split\n",
    "\n",
    "# Load the datasets\n",
    "df_red = pd.read_csv('winequality-red.csv', sep=';')\n",
    "df_white = pd.read_csv('winequality-white.csv', sep=';')\n",
    "\n",
    "# Add a column for wine type\n",
    "df_red['wine_type'] = 'red'\n",
    "df_white['wine_type'] = 'white'\n",
    "\n",
    "# Combine the datasets\n",
    "df = pd.concat([df_red, df_white], ignore_index=True)\n",
    "\n",
    "# One-hot encode wine_type\n",
    "df = pd.get_dummies(df, columns=['wine_type'], drop_first=True)\n",
    "\n",
    "# Separate features and target\n",
    "X = df.drop('quality', axis=1)\n",
    "y = df['quality']\n",
    "\n",
    "# Standardize features\n",
    "scaler = StandardScaler()\n",
    "X_scaled = scaler.fit_transform(X)\n",
    "\n",
    "# Train/test split\n",
    "X_train, X_test, y_train, y_test = train_test_split(\n",
    "    X_scaled, y, test_size=0.2, random_state=42\n",
    ")\n"
   ]
  },
  {
   "cell_type": "code",
   "execution_count": null,
   "id": "e42bdcab-abd8-45f0-be61-9cdca8d47e94",
   "metadata": {},
   "outputs": [],
   "source": []
  },
  {
   "cell_type": "code",
   "execution_count": null,
   "id": "83127c0e-e128-46a9-90aa-11ded6149d65",
   "metadata": {},
   "outputs": [],
   "source": []
  }
 ],
 "metadata": {
  "kernelspec": {
   "display_name": "Python 3 (ipykernel)",
   "language": "python",
   "name": "python3"
  },
  "language_info": {
   "codemirror_mode": {
    "name": "ipython",
    "version": 3
   },
   "file_extension": ".py",
   "mimetype": "text/x-python",
   "name": "python",
   "nbconvert_exporter": "python",
   "pygments_lexer": "ipython3",
   "version": "3.11.7"
  }
 },
 "nbformat": 4,
 "nbformat_minor": 5
}
