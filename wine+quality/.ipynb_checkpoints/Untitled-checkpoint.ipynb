{
 "cells": [
  {
   "cell_type": "code",
   "execution_count": null,
   "id": "8ed96782-0ed4-4e87-b09c-403d4b4db36c",
   "metadata": {},
   "outputs": [],
   "source": [
    "#Dummy Features / One-Hot Encoding\n",
    "df_red['wine_type'] = 'red'\n",
    "df_white['wine_type'] = 'white'\n",
    "df = pd.concat([df_red, df_white], ignore_index=True)\n",
    "df = pd.get_dummies(df, columns=['wine_type'], drop_first=True)\n"
   ]
  },
  {
   "cell_type": "code",
   "execution_count": null,
   "id": "076eb550-f309-4c96-af6a-7ced6270c261",
   "metadata": {},
   "outputs": [],
   "source": [
    "#StandardScaler\n",
    "from sklearn.preprocessing import StandardScaler\n",
    "\n",
    "X = df.drop('quality', axis=1)\n",
    "y = df['quality']\n",
    "\n",
    "scaler = StandardScaler()\n",
    "X_scaled = scaler.fit_transform(X)\n"
   ]
  },
  {
   "cell_type": "code",
   "execution_count": null,
   "id": "a19dbbbd-9e9d-43a9-879d-db328b86a252",
   "metadata": {},
   "outputs": [],
   "source": [
    "#train_test_split\n",
    "from sklearn.model_selection import train_test_split\n",
    "\n",
    "X_train, X_test, y_train, y_test = train_test_split(\n",
    "    X_scaled, y, test_size=0.2, random_state=42\n",
    ")\n"
   ]
  }
 ],
 "metadata": {
  "kernelspec": {
   "display_name": "Python 3 (ipykernel)",
   "language": "python",
   "name": "python3"
  },
  "language_info": {
   "codemirror_mode": {
    "name": "ipython",
    "version": 3
   },
   "file_extension": ".py",
   "mimetype": "text/x-python",
   "name": "python",
   "nbconvert_exporter": "python",
   "pygments_lexer": "ipython3",
   "version": "3.11.7"
  }
 },
 "nbformat": 4,
 "nbformat_minor": 5
}
